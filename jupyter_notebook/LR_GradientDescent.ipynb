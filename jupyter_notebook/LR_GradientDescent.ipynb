{
 "cells": [
  {
   "cell_type": "code",
   "execution_count": 2,
   "metadata": {},
   "outputs": [
    {
     "data": {
      "image/png": "[encoded data removed]",
      "text/plain": [
       "<Figure size 432x288 with 1 Axes>"
      ]
     },
     "metadata": {},
     "output_type": "display_data"
    },
    {
     "name": "stdout",
     "output_type": "stream",
     "text": [
      "theta = [4.02145786 3.00706277]\n"
     ]
    }
   ],
   "source": [
    "import numpy as np\n",
    "import matplotlib.pyplot as plt\n",
    "\n",
    "np.random.seed(666)\n",
    "x = 2 * np.random.random(size = 100)\n",
    "y = x * 3.0 + 4.0 + np.random.normal(size = 100)\n",
    "X = x.reshape(-1, 1)\n",
    "\n",
    "#损失函数\n",
    "def J(theta, X_b, y):\n",
    "    try:\n",
    "        return np.sum((y - X_b.dot(theta))**2)/len(X_b)\n",
    "    except:\n",
    "        return float('inf')\n",
    "\n",
    "#损失函数的梯度\n",
    "def dJ(theta, X_b, y):\n",
    "    res = np.empty(len(theta))\n",
    "    res[0] = np.sum(X_b.dot(theta) - y)\n",
    "    for i in range(1, len(theta)):\n",
    "        res[i] = (X_b.dot(theta) - y).dot(X_b[:,i])\n",
    "    return res *2 /len(X_b)\n",
    "\n",
    "#梯度下降法\n",
    "def gradient_descent(X_b, y, initial_thata, eta, n_iters = 1e4, epsilon = 1e-8):\n",
    "    theta = initial_theta\n",
    "    i_iter = 0\n",
    "    \n",
    "    while i_iter < n_iters:# n_iters是最大循环次数\n",
    "        gradient = dJ(theta, X_b, y)\n",
    "        last_theta = theta\n",
    "        theta = theta - eta * gradient\n",
    "        \n",
    "        if(abs(J(theta, X_b, y) - J(last_theta, X_b, y)) < epsilon):\n",
    "            break\n",
    "            \n",
    "        i_iter += 1\n",
    "    \n",
    "    return theta\n",
    "\n",
    "X_b = np.hstack([np.ones((len(x), 1)), x.reshape(-1, 1)])\n",
    "initial_theta = np.zeros(X_b.shape[1])\n",
    "eta = 0.01\n",
    "\n",
    "theta = gradient_descent(X_b, y, initial_theta, eta)\n",
    "\n",
    "\n",
    "plt.scatter(x, y)\n",
    "Y = X_b.dot(theta)\n",
    "plt.plot(x, Y, color=\"red\")\n",
    "plt.show()\n",
    "print(\"theta = \" + str(theta))"
   ]
  },
  {
   "cell_type": "code",
   "execution_count": 8,
   "metadata": {
    "scrolled": false
   },
   "outputs": [
    {
     "data": {
      "image/png": "[encoded data removed]",
      "text/plain": [
       "<Figure size 432x288 with 1 Axes>"
      ]
     },
     "metadata": {},
     "output_type": "display_data"
    },
    {
     "name": "stdout",
     "output_type": "stream",
     "text": [
      "运用梯度下降法 R^2=0.7121007421354142\n",
      "未用梯度下降法 R^2=0.7724307181171322\n"
     ]
    }
   ],
   "source": [
    "# 划分训练集和测试集\n",
    "from sklearn.model_selection import train_test_split\n",
    "from sklearn.metrics import r2_score\n",
    "\n",
    "x_train, x_test, y_train, y_test = train_test_split(x,y,test_size=0.2)\n",
    "# 简单线性规划\n",
    "x_mean = np.mean(x_train)\n",
    "y_mean = np.mean(y_train)\n",
    "# 分子\n",
    "num = 0.0\n",
    "# 分母\n",
    "d = 0.0\n",
    "for x_i, y_i in zip(x_train, y_train):\n",
    "    num += (x_i - x_mean) * (y_i - y_mean)\n",
    "    d += (x_i - x_mean) ** 2\n",
    "a = num/d\n",
    "b = y_mean - a*x_mean\n",
    "y_hat = a*x_train + b # 回归函数\n",
    "plt.scatter(x_train, y_train)\n",
    "plt.plot(x_train, y_hat, color=\"black\")#简单\n",
    "Y = X_b.dot(theta)\n",
    "plt.plot(x, Y, color=\"red\")#梯度\n",
    "plt.show()\n",
    "\n",
    "score1 = 0.7121007421354142\n",
    "y_predict = a*x_test + b\n",
    "score2 = r2_score(y_test, y_predict)\n",
    "print(\"运用梯度下降法 R^2=\" + str(score1))\n",
    "print(\"未用梯度下降法 R^2=\" + str(score2))"
   ]
  }
 ],
 "metadata": {
  "kernelspec": {
   "display_name": "Python 3",
   "language": "python",
   "name": "python3"
  },
  "language_info": {
   "codemirror_mode": {
    "name": "ipython",
    "version": 3
   },
   "file_extension": ".py",
   "mimetype": "text/x-python",
   "name": "python",
   "nbconvert_exporter": "python",
   "pygments_lexer": "ipython3",
   "version": "3.6.3"
  }
 },
 "nbformat": 4,
 "nbformat_minor": 2
}
